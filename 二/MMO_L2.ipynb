{
  "nbformat": 4,
  "nbformat_minor": 0,
  "metadata": {
    "colab": {
      "provenance": [],
      "gpuType": "T4"
    },
    "kernelspec": {
      "name": "python3",
      "display_name": "Python 3"
    },
    "language_info": {
      "name": "python"
    },
    "accelerator": "GPU"
  },
  "cells": [
    {
      "cell_type": "code",
      "execution_count": 10,
      "metadata": {
        "colab": {
          "base_uri": "https://localhost:8080/"
        },
        "id": "RguMT-B58o6g",
        "outputId": "923efd36-524f-4194-b73d-86aefa02d28a"
      },
      "outputs": [
        {
          "output_type": "stream",
          "name": "stdout",
          "text": [
            "   Survived  Pclass                                               Name  \\\n",
            "0         0       3                             Mr. Owen Harris Braund   \n",
            "1         1       1  Mrs. John Bradley (Florence Briggs Thayer) Cum...   \n",
            "2         1       3                              Miss. Laina Heikkinen   \n",
            "3         1       1        Mrs. Jacques Heath (Lily May Peel) Futrelle   \n",
            "4         0       3                            Mr. William Henry Allen   \n",
            "\n",
            "      Sex   Age  Siblings/Spouses Aboard  Parents/Children Aboard     Fare  \n",
            "0    male  22.0                        1                        0   7.2500  \n",
            "1  female  38.0                        1                        0  71.2833  \n",
            "2  female  26.0                        0                        0   7.9250  \n",
            "3  female  35.0                        1                        0  53.1000  \n",
            "4    male  35.0                        0                        0   8.0500  \n"
          ]
        }
      ],
      "source": [
        "import pandas as pd\n",
        "\n",
        "# Загрузка датасета Titanic\n",
        "url = \"https://web.stanford.edu/class/archive/cs/cs109/cs109.1166/stuff/titanic.csv\"\n",
        "data = pd.read_csv(url)\n",
        "print(data.head())"
      ]
    },
    {
      "cell_type": "code",
      "source": [
        "# Заполнение пропущенных значений медианой для числовых признаков и модой для категориальных\n",
        "for col in data.columns:\n",
        "    if data[col].dtype == \"object\":\n",
        "        data[col] = data[col].fillna(data[col].mode()[0])\n",
        "    else:\n",
        "        data[col] = data[col].fillna(data[col].median())\n",
        "\n",
        "print(data.isnull().sum())  # Проверка на оставшиеся пропущенные значения"
      ],
      "metadata": {
        "colab": {
          "base_uri": "https://localhost:8080/"
        },
        "id": "QLiESYVy9p29",
        "outputId": "2520a5b4-d298-4e6a-921f-749a7f5cfc73"
      },
      "execution_count": 11,
      "outputs": [
        {
          "output_type": "stream",
          "name": "stdout",
          "text": [
            "Survived                   0\n",
            "Pclass                     0\n",
            "Name                       0\n",
            "Sex                        0\n",
            "Age                        0\n",
            "Siblings/Spouses Aboard    0\n",
            "Parents/Children Aboard    0\n",
            "Fare                       0\n",
            "dtype: int64\n"
          ]
        }
      ]
    },
    {
      "cell_type": "code",
      "source": [
        "from sklearn.preprocessing import OneHotEncoder\n",
        "\n",
        "# Кодирование категориальных признаков с помощью OneHotEncoder\n",
        "encoder = OneHotEncoder(sparse=False)\n",
        "categorical_columns = data.select_dtypes(include=['object']).columns\n",
        "data_encoded = pd.DataFrame(encoder.fit_transform(data[categorical_columns]), columns=encoder.get_feature_names_out(categorical_columns))\n",
        "data = data.drop(categorical_columns, axis=1)\n",
        "data = pd.concat([data, data_encoded], axis=1)\n",
        "\n",
        "print(data.head())"
      ],
      "metadata": {
        "colab": {
          "base_uri": "https://localhost:8080/"
        },
        "id": "eZW0tOfE9pwO",
        "outputId": "9d554e69-a16c-4c99-bf6c-c7bddd8f3214"
      },
      "execution_count": 12,
      "outputs": [
        {
          "output_type": "stream",
          "name": "stdout",
          "text": [
            "   Survived  Pclass   Age  Siblings/Spouses Aboard  Parents/Children Aboard  \\\n",
            "0         0       3  22.0                        1                        0   \n",
            "1         1       1  38.0                        1                        0   \n",
            "2         1       3  26.0                        0                        0   \n",
            "3         1       1  35.0                        1                        0   \n",
            "4         0       3  35.0                        0                        0   \n",
            "\n",
            "      Fare  Name_Capt. Edward Gifford Crosby  Name_Col. John Weir  \\\n",
            "0   7.2500                               0.0                  0.0   \n",
            "1  71.2833                               0.0                  0.0   \n",
            "2   7.9250                               0.0                  0.0   \n",
            "3  53.1000                               0.0                  0.0   \n",
            "4   8.0500                               0.0                  0.0   \n",
            "\n",
            "   Name_Col. Oberst Alfons Simonius-Blumer  Name_Don. Manuel E Uruchurtu  ...  \\\n",
            "0                                      0.0                           0.0  ...   \n",
            "1                                      0.0                           0.0  ...   \n",
            "2                                      0.0                           0.0  ...   \n",
            "3                                      0.0                           0.0  ...   \n",
            "4                                      0.0                           0.0  ...   \n",
            "\n",
            "   Name_Rev. Charles Leonard Kirkland  Name_Rev. Ernest Courtenay Carter  \\\n",
            "0                                 0.0                                0.0   \n",
            "1                                 0.0                                0.0   \n",
            "2                                 0.0                                0.0   \n",
            "3                                 0.0                                0.0   \n",
            "4                                 0.0                                0.0   \n",
            "\n",
            "   Name_Rev. John Harper  Name_Rev. Juozas Montvila  \\\n",
            "0                    0.0                        0.0   \n",
            "1                    0.0                        0.0   \n",
            "2                    0.0                        0.0   \n",
            "3                    0.0                        0.0   \n",
            "4                    0.0                        0.0   \n",
            "\n",
            "   Name_Rev. Robert James Bateman  Name_Rev. Thomas Roussel Davids Byles  \\\n",
            "0                             0.0                                    0.0   \n",
            "1                             0.0                                    0.0   \n",
            "2                             0.0                                    0.0   \n",
            "3                             0.0                                    0.0   \n",
            "4                             0.0                                    0.0   \n",
            "\n",
            "   Name_Sir. Cosmo Edmund Duff Gordon  \\\n",
            "0                                 0.0   \n",
            "1                                 0.0   \n",
            "2                                 0.0   \n",
            "3                                 0.0   \n",
            "4                                 0.0   \n",
            "\n",
            "   Name_the Countess. of (Lucy Noel Martha Dyer-Edwards) Rothes  Sex_female  \\\n",
            "0                                                0.0                    0.0   \n",
            "1                                                0.0                    1.0   \n",
            "2                                                0.0                    1.0   \n",
            "3                                                0.0                    1.0   \n",
            "4                                                0.0                    0.0   \n",
            "\n",
            "   Sex_male  \n",
            "0       1.0  \n",
            "1       0.0  \n",
            "2       0.0  \n",
            "3       0.0  \n",
            "4       1.0  \n",
            "\n",
            "[5 rows x 895 columns]\n"
          ]
        },
        {
          "output_type": "stream",
          "name": "stderr",
          "text": [
            "/usr/local/lib/python3.10/dist-packages/sklearn/preprocessing/_encoders.py:868: FutureWarning: `sparse` was renamed to `sparse_output` in version 1.2 and will be removed in 1.4. `sparse_output` is ignored unless you leave `sparse` to its default value.\n",
            "  warnings.warn(\n"
          ]
        }
      ]
    },
    {
      "cell_type": "code",
      "source": [
        "from sklearn.preprocessing import MinMaxScaler\n",
        "\n",
        "# Нормализация числовых признаков\n",
        "scaler = MinMaxScaler()\n",
        "numeric_columns = data.select_dtypes(include=['int64', 'float64']).columns\n",
        "data[numeric_columns] = scaler.fit_transform(data[numeric_columns])\n",
        "\n",
        "print(data.head())"
      ],
      "metadata": {
        "colab": {
          "base_uri": "https://localhost:8080/"
        },
        "id": "fVll4a7p9pax",
        "outputId": "e51fd8c1-5055-4961-f921-37216c2e53e3"
      },
      "execution_count": 13,
      "outputs": [
        {
          "output_type": "stream",
          "name": "stdout",
          "text": [
            "   Survived  Pclass       Age  Siblings/Spouses Aboard  \\\n",
            "0       0.0     1.0  0.271174                    0.125   \n",
            "1       1.0     0.0  0.472229                    0.125   \n",
            "2       1.0     1.0  0.321438                    0.000   \n",
            "3       1.0     0.0  0.434531                    0.125   \n",
            "4       0.0     1.0  0.434531                    0.000   \n",
            "\n",
            "   Parents/Children Aboard      Fare  Name_Capt. Edward Gifford Crosby  \\\n",
            "0                      0.0  0.014151                               0.0   \n",
            "1                      0.0  0.139136                               0.0   \n",
            "2                      0.0  0.015469                               0.0   \n",
            "3                      0.0  0.103644                               0.0   \n",
            "4                      0.0  0.015713                               0.0   \n",
            "\n",
            "   Name_Col. John Weir  Name_Col. Oberst Alfons Simonius-Blumer  \\\n",
            "0                  0.0                                      0.0   \n",
            "1                  0.0                                      0.0   \n",
            "2                  0.0                                      0.0   \n",
            "3                  0.0                                      0.0   \n",
            "4                  0.0                                      0.0   \n",
            "\n",
            "   Name_Don. Manuel E Uruchurtu  ...  Name_Rev. Charles Leonard Kirkland  \\\n",
            "0                           0.0  ...                                 0.0   \n",
            "1                           0.0  ...                                 0.0   \n",
            "2                           0.0  ...                                 0.0   \n",
            "3                           0.0  ...                                 0.0   \n",
            "4                           0.0  ...                                 0.0   \n",
            "\n",
            "   Name_Rev. Ernest Courtenay Carter  Name_Rev. John Harper  \\\n",
            "0                                0.0                    0.0   \n",
            "1                                0.0                    0.0   \n",
            "2                                0.0                    0.0   \n",
            "3                                0.0                    0.0   \n",
            "4                                0.0                    0.0   \n",
            "\n",
            "   Name_Rev. Juozas Montvila  Name_Rev. Robert James Bateman  \\\n",
            "0                        0.0                             0.0   \n",
            "1                        0.0                             0.0   \n",
            "2                        0.0                             0.0   \n",
            "3                        0.0                             0.0   \n",
            "4                        0.0                             0.0   \n",
            "\n",
            "   Name_Rev. Thomas Roussel Davids Byles  Name_Sir. Cosmo Edmund Duff Gordon  \\\n",
            "0                                    0.0                                 0.0   \n",
            "1                                    0.0                                 0.0   \n",
            "2                                    0.0                                 0.0   \n",
            "3                                    0.0                                 0.0   \n",
            "4                                    0.0                                 0.0   \n",
            "\n",
            "   Name_the Countess. of (Lucy Noel Martha Dyer-Edwards) Rothes  Sex_female  \\\n",
            "0                                                0.0                    0.0   \n",
            "1                                                0.0                    1.0   \n",
            "2                                                0.0                    1.0   \n",
            "3                                                0.0                    1.0   \n",
            "4                                                0.0                    0.0   \n",
            "\n",
            "   Sex_male  \n",
            "0       1.0  \n",
            "1       0.0  \n",
            "2       0.0  \n",
            "3       0.0  \n",
            "4       1.0  \n",
            "\n",
            "[5 rows x 895 columns]\n"
          ]
        }
      ]
    }
  ]
}