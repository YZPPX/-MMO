{
  "nbformat": 4,
  "nbformat_minor": 0,
  "metadata": {
    "colab": {
      "provenance": [],
      "gpuType": "T4"
    },
    "kernelspec": {
      "name": "python3",
      "display_name": "Python 3"
    },
    "language_info": {
      "name": "python"
    },
    "accelerator": "GPU"
  },
  "cells": [
    {
      "cell_type": "code",
      "execution_count": 1,
      "metadata": {
        "colab": {
          "base_uri": "https://localhost:8080/"
        },
        "id": "CLLoqhLIFhy9",
        "outputId": "a74cf917-f631-4457-af2c-1db875373afe"
      },
      "outputs": [
        {
          "output_type": "stream",
          "name": "stdout",
          "text": [
            "   alcohol  malic_acid   ash  alcalinity_of_ash  magnesium  total_phenols  \\\n",
            "0    14.23        1.71  2.43               15.6      127.0           2.80   \n",
            "1    13.20        1.78  2.14               11.2      100.0           2.65   \n",
            "2    13.16        2.36  2.67               18.6      101.0           2.80   \n",
            "3    14.37        1.95  2.50               16.8      113.0           3.85   \n",
            "4    13.24        2.59  2.87               21.0      118.0           2.80   \n",
            "\n",
            "   flavanoids  nonflavanoid_phenols  proanthocyanins  color_intensity   hue  \\\n",
            "0        3.06                  0.28             2.29             5.64  1.04   \n",
            "1        2.76                  0.26             1.28             4.38  1.05   \n",
            "2        3.24                  0.30             2.81             5.68  1.03   \n",
            "3        3.49                  0.24             2.18             7.80  0.86   \n",
            "4        2.69                  0.39             1.82             4.32  1.04   \n",
            "\n",
            "   od280/od315_of_diluted_wines  proline  target  \n",
            "0                          3.92   1065.0       0  \n",
            "1                          3.40   1050.0       0  \n",
            "2                          3.17   1185.0       0  \n",
            "3                          3.45   1480.0       0  \n",
            "4                          2.93    735.0       0  \n"
          ]
        }
      ],
      "source": [
        "from sklearn.datasets import load_wine\n",
        "import pandas as pd\n",
        "\n",
        "data = load_wine()\n",
        "df = pd.DataFrame(data.data, columns=data.feature_names)\n",
        "df['target'] = data.target\n",
        "\n",
        "print(df.head())"
      ]
    },
    {
      "cell_type": "code",
      "source": [
        "from sklearn.preprocessing import MinMaxScaler, StandardScaler, RobustScaler\n",
        "\n",
        "scalers = {\n",
        "    'min_max_scaler': MinMaxScaler(),\n",
        "    'standard_scaler': StandardScaler(),\n",
        "    'robust_scaler': RobustScaler()\n",
        "}\n",
        "\n",
        "scaled_data = {}\n",
        "for scaler_name, scaler in scalers.items():\n",
        "    scaled_data[scaler_name] = pd.DataFrame(scaler.fit_transform(df.drop('target', axis=1)), columns=df.columns[:-1])\n",
        "# Выводим результаты масштабирования для всех масштабировщиков\n",
        "for scaler_name, scaler_data in scaled_data.items():\n",
        "    print(f\"Результат {scaler_name}:\")\n",
        "    print(scaler_data.head())\n",
        "    print()  # Добавляет пустую строку между результатами для улучшения читаемости"
      ],
      "metadata": {
        "colab": {
          "base_uri": "https://localhost:8080/"
        },
        "id": "wrS8YGEQFks8",
        "outputId": "1a665e05-d52c-4579-9cf3-9d38dc9c7abb"
      },
      "execution_count": 2,
      "outputs": [
        {
          "output_type": "stream",
          "name": "stdout",
          "text": [
            "Результат min_max_scaler:\n",
            "    alcohol  malic_acid       ash  alcalinity_of_ash  magnesium  \\\n",
            "0  0.842105    0.191700  0.572193           0.257732   0.619565   \n",
            "1  0.571053    0.205534  0.417112           0.030928   0.326087   \n",
            "2  0.560526    0.320158  0.700535           0.412371   0.336957   \n",
            "3  0.878947    0.239130  0.609626           0.319588   0.467391   \n",
            "4  0.581579    0.365613  0.807487           0.536082   0.521739   \n",
            "\n",
            "   total_phenols  flavanoids  nonflavanoid_phenols  proanthocyanins  \\\n",
            "0       0.627586    0.573840              0.283019         0.593060   \n",
            "1       0.575862    0.510549              0.245283         0.274448   \n",
            "2       0.627586    0.611814              0.320755         0.757098   \n",
            "3       0.989655    0.664557              0.207547         0.558360   \n",
            "4       0.627586    0.495781              0.490566         0.444795   \n",
            "\n",
            "   color_intensity       hue  od280/od315_of_diluted_wines   proline  \n",
            "0         0.372014  0.455285                      0.970696  0.561341  \n",
            "1         0.264505  0.463415                      0.780220  0.550642  \n",
            "2         0.375427  0.447154                      0.695971  0.646933  \n",
            "3         0.556314  0.308943                      0.798535  0.857347  \n",
            "4         0.259386  0.455285                      0.608059  0.325963  \n",
            "\n",
            "Результат standard_scaler:\n",
            "    alcohol  malic_acid       ash  alcalinity_of_ash  magnesium  \\\n",
            "0  1.518613   -0.562250  0.232053          -1.169593   1.913905   \n",
            "1  0.246290   -0.499413 -0.827996          -2.490847   0.018145   \n",
            "2  0.196879    0.021231  1.109334          -0.268738   0.088358   \n",
            "3  1.691550   -0.346811  0.487926          -0.809251   0.930918   \n",
            "4  0.295700    0.227694  1.840403           0.451946   1.281985   \n",
            "\n",
            "   total_phenols  flavanoids  nonflavanoid_phenols  proanthocyanins  \\\n",
            "0       0.808997    1.034819             -0.659563         1.224884   \n",
            "1       0.568648    0.733629             -0.820719        -0.544721   \n",
            "2       0.808997    1.215533             -0.498407         2.135968   \n",
            "3       2.491446    1.466525             -0.981875         1.032155   \n",
            "4       0.808997    0.663351              0.226796         0.401404   \n",
            "\n",
            "   color_intensity       hue  od280/od315_of_diluted_wines   proline  \n",
            "0         0.251717  0.362177                      1.847920  1.013009  \n",
            "1        -0.293321  0.406051                      1.113449  0.965242  \n",
            "2         0.269020  0.318304                      0.788587  1.395148  \n",
            "3         1.186068 -0.427544                      1.184071  2.334574  \n",
            "4        -0.319276  0.362177                      0.449601 -0.037874  \n",
            "\n",
            "Результат robust_scaler:\n",
            "    alcohol  malic_acid       ash  alcalinity_of_ash  magnesium  \\\n",
            "0  0.897338   -0.104730  0.201439          -0.906977   1.526316   \n",
            "1  0.114068   -0.057432 -0.633094          -1.930233   0.105263   \n",
            "2  0.083650    0.334459  0.892086          -0.209302   0.157895   \n",
            "3  1.003802    0.057432  0.402878          -0.627907   0.789474   \n",
            "4  0.144487    0.489865  1.467626           0.348837   1.052632   \n",
            "\n",
            "   total_phenols  flavanoids  nonflavanoid_phenols  proanthocyanins  \\\n",
            "0       0.420804    0.553892             -0.358209         1.050000   \n",
            "1       0.278960    0.374251             -0.477612        -0.392857   \n",
            "2       0.420804    0.661677             -0.238806         1.792857   \n",
            "3       1.413712    0.811377             -0.597015         0.892857   \n",
            "4       0.420804    0.332335              0.298507         0.378571   \n",
            "\n",
            "   color_intensity       hue  od280/od315_of_diluted_wines   proline  \n",
            "0         0.318792  0.222222                      0.924949  0.808050  \n",
            "1        -0.104027  0.251852                      0.503043  0.777090  \n",
            "2         0.332215  0.192593                      0.316430  1.055728  \n",
            "3         1.043624 -0.311111                      0.543611  1.664603  \n",
            "4        -0.124161  0.222222                      0.121704  0.126935  \n",
            "\n"
          ]
        }
      ]
    },
    {
      "cell_type": "code",
      "source": [
        "#3.1\n",
        "Q1 = df.quantile(0.25)\n",
        "Q3 = df.quantile(0.75)\n",
        "IQR = Q3 - Q1\n",
        "\n",
        "df_filtered = df[~((df < (Q1 - 1.5 * IQR)) |(df > (Q3 + 1.5 * IQR))).any(axis=1)]\n",
        "print(\"Данные после удаления выбросов:\")\n",
        "print(df_filtered.shape)"
      ],
      "metadata": {
        "colab": {
          "base_uri": "https://localhost:8080/"
        },
        "id": "k0ZsQx9SFkqh",
        "outputId": "cd69e285-5649-46b8-dc66-6ed71d01c9e0"
      },
      "execution_count": 3,
      "outputs": [
        {
          "output_type": "stream",
          "name": "stdout",
          "text": [
            "Данные после удаления выбросов:\n",
            "(161, 14)\n"
          ]
        }
      ]
    },
    {
      "cell_type": "code",
      "source": [
        "#3.2\n",
        "for col in df.columns:\n",
        "    col_Q1 = df[col].quantile(0.25)\n",
        "    col_Q3 = df[col].quantile(0.75)\n",
        "    col_IQR = col_Q3 - col_Q1\n",
        "    lower_bound = col_Q1 - 1.5 * col_IQR\n",
        "    upper_bound = col_Q3 + 1.5 * col_IQR\n",
        "    df.loc[df[col] < lower_bound, col] = df[col].mean()\n",
        "    df.loc[df[col] > upper_bound, col] = df[col].mean()\n",
        "\n",
        "print(\"Данные после замены выбросов на среднее значение:\")\n",
        "print(df.head())"
      ],
      "metadata": {
        "colab": {
          "base_uri": "https://localhost:8080/"
        },
        "id": "aShRo7AsFkob",
        "outputId": "b1af2059-c11a-402a-8d7b-6afd8718479a"
      },
      "execution_count": 4,
      "outputs": [
        {
          "output_type": "stream",
          "name": "stdout",
          "text": [
            "Данные после замены выбросов на среднее значение:\n",
            "   alcohol  malic_acid   ash  alcalinity_of_ash  magnesium  total_phenols  \\\n",
            "0    14.23        1.71  2.43               15.6      127.0           2.80   \n",
            "1    13.20        1.78  2.14               11.2      100.0           2.65   \n",
            "2    13.16        2.36  2.67               18.6      101.0           2.80   \n",
            "3    14.37        1.95  2.50               16.8      113.0           3.85   \n",
            "4    13.24        2.59  2.87               21.0      118.0           2.80   \n",
            "\n",
            "   flavanoids  nonflavanoid_phenols  proanthocyanins  color_intensity   hue  \\\n",
            "0        3.06                  0.28             2.29             5.64  1.04   \n",
            "1        2.76                  0.26             1.28             4.38  1.05   \n",
            "2        3.24                  0.30             2.81             5.68  1.03   \n",
            "3        3.49                  0.24             2.18             7.80  0.86   \n",
            "4        2.69                  0.39             1.82             4.32  1.04   \n",
            "\n",
            "   od280/od315_of_diluted_wines  proline  target  \n",
            "0                          3.92   1065.0     0.0  \n",
            "1                          3.40   1050.0     0.0  \n",
            "2                          3.17   1185.0     0.0  \n",
            "3                          3.45   1480.0     0.0  \n",
            "4                          2.93    735.0     0.0  \n"
          ]
        }
      ]
    },
    {
      "cell_type": "code",
      "source": [
        "df['alcohol_category'] = pd.cut(df['alcohol'], bins=3, labels=[\"low\", \"medium\", \"high\"])\n",
        "print(\"Преобразованный признак 'alcohol' в категории:\")\n",
        "print(df['alcohol_category'].head())"
      ],
      "metadata": {
        "colab": {
          "base_uri": "https://localhost:8080/"
        },
        "id": "OQFGJwdRFkl1",
        "outputId": "833e14c0-aa42-49e9-a7bc-3ed063ad96c3"
      },
      "execution_count": 5,
      "outputs": [
        {
          "output_type": "stream",
          "name": "stdout",
          "text": [
            "Преобразованный признак 'alcohol' в категории:\n",
            "0      high\n",
            "1    medium\n",
            "2    medium\n",
            "3      high\n",
            "4    medium\n",
            "Name: alcohol_category, dtype: category\n",
            "Categories (3, object): ['low' < 'medium' < 'high']\n"
          ]
        }
      ]
    },
    {
      "cell_type": "code",
      "source": [
        "#5.1\n",
        "from sklearn.feature_selection import SelectKBest, f_classif\n",
        "\n",
        "# Отбираем три лучших признака\n",
        "selector = SelectKBest(f_classif, k=3)\n",
        "selector.fit(df.drop(['target', 'alcohol_category'], axis=1), df['target'])\n",
        "df_filtered_features = df.drop(['target', 'alcohol_category'], axis=1).columns[selector.get_support()]\n",
        "\n",
        "print(\"Отобранные признаки методом фильтрации:\")\n",
        "print(df_filtered_features)"
      ],
      "metadata": {
        "colab": {
          "base_uri": "https://localhost:8080/"
        },
        "id": "b3ocEV7wFke2",
        "outputId": "23d8bd76-810e-4bbf-ca16-0892d0443354"
      },
      "execution_count": 6,
      "outputs": [
        {
          "output_type": "stream",
          "name": "stdout",
          "text": [
            "Отобранные признаки методом фильтрации:\n",
            "Index(['flavanoids', 'od280/od315_of_diluted_wines', 'proline'], dtype='object')\n"
          ]
        }
      ]
    },
    {
      "cell_type": "code",
      "source": [
        "#5.2\n",
        "from sklearn.feature_selection import RFE\n",
        "from sklearn.ensemble import RandomForestClassifier\n",
        "\n",
        "# Рекурсивное устранение признаков\n",
        "rfe = RFE(estimator=RandomForestClassifier(), n_features_to_select=3)\n",
        "rfe.fit(df.drop(['target', 'alcohol_category'], axis=1), df['target'])\n",
        "\n",
        "print(\"Признаки, отобранные с помощью RFE:\")\n",
        "print(df.drop(['target', 'alcohol_category'], axis=1).columns[rfe.support_])"
      ],
      "metadata": {
        "colab": {
          "base_uri": "https://localhost:8080/"
        },
        "id": "-wCQ_cLuF9Pr",
        "outputId": "927df1d9-e0ba-4f54-9fe8-395b5ee9e3c6"
      },
      "execution_count": 7,
      "outputs": [
        {
          "output_type": "stream",
          "name": "stdout",
          "text": [
            "Признаки, отобранные с помощью RFE:\n",
            "Index(['flavanoids', 'color_intensity', 'proline'], dtype='object')\n"
          ]
        }
      ]
    },
    {
      "cell_type": "code",
      "source": [
        "#5.3\n",
        "from sklearn.linear_model import LogisticRegression\n",
        "from sklearn.feature_selection import SelectFromModel\n",
        "\n",
        "# Отбор признаков с помощью регуляризации в модели логистической регрессии\n",
        "selector = SelectFromModel(estimator=LogisticRegression(penalty=\"l1\", solver='liblinear'), max_features=3)\n",
        "selector.fit(df.drop(['target', 'alcohol_category'], axis=1), df['target'])\n",
        "\n",
        "print(\"Признаки, отобранные методом вложений:\")\n",
        "print(df.drop(['target', 'alcohol_category'], axis=1).columns[selector.get_support()])"
      ],
      "metadata": {
        "colab": {
          "base_uri": "https://localhost:8080/"
        },
        "id": "iY-KhPKLF_J-",
        "outputId": "d398f2b6-03ca-44b8-be89-ebd684072d6e"
      },
      "execution_count": 8,
      "outputs": [
        {
          "output_type": "stream",
          "name": "stdout",
          "text": [
            "Признаки, отобранные методом вложений:\n",
            "Index(['flavanoids', 'color_intensity', 'hue'], dtype='object')\n"
          ]
        }
      ]
    }
  ]
}