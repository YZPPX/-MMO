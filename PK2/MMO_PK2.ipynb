{
  "nbformat": 4,
  "nbformat_minor": 0,
  "metadata": {
    "colab": {
      "provenance": [],
      "gpuType": "T4"
    },
    "kernelspec": {
      "name": "python3",
      "display_name": "Python 3"
    },
    "language_info": {
      "name": "python"
    },
    "accelerator": "GPU"
  },
  "cells": [
    {
      "cell_type": "code",
      "execution_count": 8,
      "metadata": {
        "colab": {
          "base_uri": "https://localhost:8080/"
        },
        "id": "1g6sNzBIw-Ke",
        "outputId": "e31f0eed-3938-473f-a4c2-ec68a97f2b9d"
      },
      "outputs": [
        {
          "output_type": "stream",
          "name": "stdout",
          "text": [
            "Requirement already satisfied: numpy in /usr/local/lib/python3.10/dist-packages (1.25.2)\n",
            "Requirement already satisfied: scipy in /usr/local/lib/python3.10/dist-packages (1.11.4)\n",
            "Requirement already satisfied: scikit-learn in /usr/local/lib/python3.10/dist-packages (1.2.2)\n",
            "Requirement already satisfied: matplotlib in /usr/local/lib/python3.10/dist-packages (3.7.1)\n",
            "Requirement already satisfied: joblib>=1.1.1 in /usr/local/lib/python3.10/dist-packages (from scikit-learn) (1.4.2)\n",
            "Requirement already satisfied: threadpoolctl>=2.0.0 in /usr/local/lib/python3.10/dist-packages (from scikit-learn) (3.5.0)\n",
            "Requirement already satisfied: contourpy>=1.0.1 in /usr/local/lib/python3.10/dist-packages (from matplotlib) (1.2.1)\n",
            "Requirement already satisfied: cycler>=0.10 in /usr/local/lib/python3.10/dist-packages (from matplotlib) (0.12.1)\n",
            "Requirement already satisfied: fonttools>=4.22.0 in /usr/local/lib/python3.10/dist-packages (from matplotlib) (4.51.0)\n",
            "Requirement already satisfied: kiwisolver>=1.0.1 in /usr/local/lib/python3.10/dist-packages (from matplotlib) (1.4.5)\n",
            "Requirement already satisfied: packaging>=20.0 in /usr/local/lib/python3.10/dist-packages (from matplotlib) (24.0)\n",
            "Requirement already satisfied: pillow>=6.2.0 in /usr/local/lib/python3.10/dist-packages (from matplotlib) (9.4.0)\n",
            "Requirement already satisfied: pyparsing>=2.3.1 in /usr/local/lib/python3.10/dist-packages (from matplotlib) (3.1.2)\n",
            "Requirement already satisfied: python-dateutil>=2.7 in /usr/local/lib/python3.10/dist-packages (from matplotlib) (2.8.2)\n",
            "Requirement already satisfied: six>=1.5 in /usr/local/lib/python3.10/dist-packages (from python-dateutil>=2.7->matplotlib) (1.16.0)\n"
          ]
        }
      ],
      "source": [
        "pip install numpy scipy scikit-learn matplotlib"
      ]
    },
    {
      "cell_type": "code",
      "source": [
        "import numpy as np\n",
        "from sklearn.datasets import fetch_20newsgroups\n",
        "from sklearn.feature_extraction.text import CountVectorizer, TfidfVectorizer\n",
        "from sklearn.svm import LinearSVC\n",
        "from sklearn.linear_model import LogisticRegression\n",
        "from sklearn.model_selection import train_test_split\n",
        "from sklearn.metrics import classification_report"
      ],
      "metadata": {
        "id": "Vzbg5miJxEDA"
      },
      "execution_count": 9,
      "outputs": []
    },
    {
      "cell_type": "code",
      "source": [
        "categories = ['alt.atheism', 'soc.religion.christian', 'comp.graphics', 'sci.med']\n",
        "newsgroups_train = fetch_20newsgroups(subset='train', categories=categories, shuffle=True, random_state=42)\n",
        "newsgroups_test = fetch_20newsgroups(subset='test', categories=categories, shuffle=True, random_state=42)\n",
        "X_train = newsgroups_train.data\n",
        "X_test = newsgroups_test.data\n",
        "y_train = newsgroups_train.target\n",
        "y_test = newsgroups_test.target"
      ],
      "metadata": {
        "id": "tGVrHs6JxEU3"
      },
      "execution_count": 10,
      "outputs": []
    },
    {
      "cell_type": "code",
      "source": [
        "# 特征向量化：CountVectorizer\n",
        "count_vect = CountVectorizer()\n",
        "X_train_counts = count_vect.fit_transform(X_train)\n",
        "X_test_counts = count_vect.transform(X_test)"
      ],
      "metadata": {
        "id": "5KXN8Vq0xEk0"
      },
      "execution_count": 11,
      "outputs": []
    },
    {
      "cell_type": "code",
      "source": [
        "# 特征向量化：TfidfVectorizer\n",
        "tfidf_vect = TfidfVectorizer()\n",
        "X_train_tfidf = tfidf_vect.fit_transform(X_train)\n",
        "X_test_tfidf = tfidf_vect.transform(X_test)"
      ],
      "metadata": {
        "id": "Xhezss9fxONB"
      },
      "execution_count": 12,
      "outputs": []
    },
    {
      "cell_type": "code",
      "source": [
        "# 初始化分类器\n",
        "classifiers = {\n",
        "    'LinearSVC': LinearSVC(),\n",
        "    'LogisticRegression': LogisticRegression(max_iter=1000)\n",
        "}"
      ],
      "metadata": {
        "id": "dKBdlXByxOGt"
      },
      "execution_count": 13,
      "outputs": []
    },
    {
      "cell_type": "code",
      "source": [
        "# 测试和评估\n",
        "results = {}\n",
        "for name, clf in classifiers.items():\n",
        "    for vect_name, X_train_vec, X_test_vec in [('CountVec', X_train_counts, X_test_counts),\n",
        "                                               ('TfidfVec', X_train_tfidf, X_test_tfidf)]:\n",
        "        # 训练模型\n",
        "        clf.fit(X_train_vec, y_train)\n",
        "        # 预测\n",
        "        y_pred = clf.predict(X_test_vec)\n",
        "        # 计算评估指标\n",
        "        report = classification_report(y_test, y_pred, target_names=newsgroups_train.target_names)\n",
        "        results[f'{name}_{vect_name}'] = report\n",
        "        print(f\"Results for {name} with {vect_name}:\")\n",
        "        print(report)"
      ],
      "metadata": {
        "colab": {
          "base_uri": "https://localhost:8080/"
        },
        "id": "SPPxm2NIxN9x",
        "outputId": "48aea056-d104-4ee3-e0c4-5778559c3369"
      },
      "execution_count": 14,
      "outputs": [
        {
          "output_type": "stream",
          "name": "stdout",
          "text": [
            "Results for LinearSVC with CountVec:\n",
            "                        precision    recall  f1-score   support\n",
            "\n",
            "           alt.atheism       0.91      0.81      0.85       319\n",
            "         comp.graphics       0.89      0.94      0.91       389\n",
            "               sci.med       0.92      0.84      0.87       396\n",
            "soc.religion.christian       0.86      0.97      0.91       398\n",
            "\n",
            "              accuracy                           0.89      1502\n",
            "             macro avg       0.89      0.89      0.89      1502\n",
            "          weighted avg       0.89      0.89      0.89      1502\n",
            "\n",
            "Results for LinearSVC with TfidfVec:\n",
            "                        precision    recall  f1-score   support\n",
            "\n",
            "           alt.atheism       0.96      0.83      0.89       319\n",
            "         comp.graphics       0.90      0.97      0.93       389\n",
            "               sci.med       0.95      0.91      0.93       396\n",
            "soc.religion.christian       0.90      0.96      0.93       398\n",
            "\n",
            "              accuracy                           0.92      1502\n",
            "             macro avg       0.93      0.92      0.92      1502\n",
            "          weighted avg       0.92      0.92      0.92      1502\n",
            "\n",
            "Results for LogisticRegression with CountVec:\n",
            "                        precision    recall  f1-score   support\n",
            "\n",
            "           alt.atheism       0.91      0.81      0.85       319\n",
            "         comp.graphics       0.86      0.94      0.90       389\n",
            "               sci.med       0.92      0.82      0.87       396\n",
            "soc.religion.christian       0.88      0.98      0.92       398\n",
            "\n",
            "              accuracy                           0.89      1502\n",
            "             macro avg       0.89      0.88      0.89      1502\n",
            "          weighted avg       0.89      0.89      0.89      1502\n",
            "\n",
            "Results for LogisticRegression with TfidfVec:\n",
            "                        precision    recall  f1-score   support\n",
            "\n",
            "           alt.atheism       0.96      0.78      0.86       319\n",
            "         comp.graphics       0.85      0.96      0.90       389\n",
            "               sci.med       0.94      0.88      0.90       396\n",
            "soc.religion.christian       0.88      0.95      0.91       398\n",
            "\n",
            "              accuracy                           0.90      1502\n",
            "             macro avg       0.91      0.89      0.89      1502\n",
            "          weighted avg       0.90      0.90      0.90      1502\n",
            "\n"
          ]
        }
      ]
    }
  ]
}